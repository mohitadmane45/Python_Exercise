{
 "cells": [
  {
   "cell_type": "markdown",
   "metadata": {},
   "source": [
    "### Sets\n",
    "Set is a collection of unordered and un-indexed distinct elements. In Python set is used to store unique items, and it is possible to find the union, intersection, difference among sets."
   ]
  },
  {
   "cell_type": "code",
   "execution_count": 1,
   "metadata": {},
   "outputs": [
    {
     "name": "stdout",
     "output_type": "stream",
     "text": [
      "<class 'set'>\n",
      "<class 'dict'>\n"
     ]
    }
   ],
   "source": [
    "s = {2}\n",
    "print(type(s))\n",
    "s1 = {}\n",
    "print(type(s1))"
   ]
  },
  {
   "cell_type": "code",
   "execution_count": 2,
   "metadata": {},
   "outputs": [
    {
     "name": "stdout",
     "output_type": "stream",
     "text": [
      "{0, 1, 2, 3, 4, 34}\n"
     ]
    }
   ],
   "source": [
    "s1 = {1,3,4,2,0,1,34}\n",
    "print(s1)"
   ]
  },
  {
   "cell_type": "code",
   "execution_count": 3,
   "metadata": {},
   "outputs": [
    {
     "name": "stdout",
     "output_type": "stream",
     "text": [
      "{0, 2, 4, 9, 'name', 'roy', 56}\n"
     ]
    }
   ],
   "source": [
    "set1 = {56,9,0,'name',56,2,4,0,'roy'}\n",
    "print(set1)"
   ]
  },
  {
   "cell_type": "code",
   "execution_count": 4,
   "metadata": {},
   "outputs": [
    {
     "name": "stdout",
     "output_type": "stream",
     "text": [
      "{0, 2, 4, 9, 'name', 'roy', (2, 3), 56}\n",
      "{0, 2, 4, 5, 7, 8, 9, 'name', 'roy', (2, 3), 56}\n"
     ]
    }
   ],
   "source": [
    "set1.add((2,3)) # to add a single element inside a set\n",
    "print(set1)\n",
    "\n",
    "#set1.add(5,8)\n",
    "#print(set1)\n",
    "\n",
    "set1.update((5,7,8)) # add multiple elements inside a set.\n",
    "print(set1)"
   ]
  },
  {
   "cell_type": "code",
   "execution_count": 5,
   "metadata": {},
   "outputs": [],
   "source": [
    "set1.remove(2)"
   ]
  },
  {
   "cell_type": "code",
   "execution_count": 6,
   "metadata": {},
   "outputs": [
    {
     "name": "stdout",
     "output_type": "stream",
     "text": [
      "{0, 4, 5, 7, 8, 9, 'name', 'roy', (2, 3), 56}\n"
     ]
    }
   ],
   "source": [
    "print(set1)"
   ]
  },
  {
   "cell_type": "code",
   "execution_count": 7,
   "metadata": {},
   "outputs": [
    {
     "name": "stdout",
     "output_type": "stream",
     "text": [
      "{0, 4, 5, 8, 9, 'name', 'roy', (2, 3), 56}\n"
     ]
    }
   ],
   "source": [
    "set1.discard(7)\n",
    "print(set1)"
   ]
  },
  {
   "cell_type": "code",
   "execution_count": 9,
   "metadata": {},
   "outputs": [
    {
     "ename": "TypeError",
     "evalue": "remove() takes exactly one argument (2 given)",
     "output_type": "error",
     "traceback": [
      "\u001b[1;31m---------------------------------------------------------------------------\u001b[0m",
      "\u001b[1;31mTypeError\u001b[0m                                 Traceback (most recent call last)",
      "\u001b[1;32m<ipython-input-9-acffe4ba7f9a>\u001b[0m in \u001b[0;36m<module>\u001b[1;34m\u001b[0m\n\u001b[1;32m----> 1\u001b[1;33m \u001b[0mset1\u001b[0m\u001b[1;33m.\u001b[0m\u001b[0mremove\u001b[0m\u001b[1;33m(\u001b[0m\u001b[1;36m4\u001b[0m\u001b[1;33m,\u001b[0m\u001b[1;36m5\u001b[0m\u001b[1;33m)\u001b[0m\u001b[1;33m\u001b[0m\u001b[1;33m\u001b[0m\u001b[0m\n\u001b[0m\u001b[0;32m      2\u001b[0m \u001b[0mprint\u001b[0m\u001b[1;33m(\u001b[0m\u001b[0mset1\u001b[0m\u001b[1;33m)\u001b[0m\u001b[1;33m\u001b[0m\u001b[1;33m\u001b[0m\u001b[0m\n",
      "\u001b[1;31mTypeError\u001b[0m: remove() takes exactly one argument (2 given)"
     ]
    }
   ],
   "source": [
    "set1.remove(4,5)\n",
    "print(set1)"
   ]
  },
  {
   "cell_type": "code",
   "execution_count": 10,
   "metadata": {},
   "outputs": [
    {
     "name": "stdout",
     "output_type": "stream",
     "text": [
      "{0, 8, 9, 'name', 'roy', (2, 3), 56}\n"
     ]
    }
   ],
   "source": [
    "i = [4,5]\n",
    "\n",
    "for x in i:\n",
    "    set1.remove(x)\n",
    "    \n",
    "print(set1)  "
   ]
  },
  {
   "cell_type": "code",
   "execution_count": 11,
   "metadata": {},
   "outputs": [
    {
     "name": "stdout",
     "output_type": "stream",
     "text": [
      "{0, 3, 6, 7, 8, 9}\n",
      "<class 'set'>\n",
      "{0, 3, 4, 7, 8, 9}\n",
      "<class 'set'>\n"
     ]
    }
   ],
   "source": [
    "setA = set([3,6,8,8,9,0,3,7])\n",
    "setB = set([8,0,4,3,7,9])\n",
    "\n",
    "print(setA)\n",
    "print(type(setA))\n",
    "\n",
    "print(setB)\n",
    "print(type(setB))"
   ]
  },
  {
   "cell_type": "code",
   "execution_count": 12,
   "metadata": {},
   "outputs": [
    {
     "name": "stdout",
     "output_type": "stream",
     "text": [
      "{0, 3, 4, 6, 7, 8, 9}\n",
      "{0, 3, 4, 6, 7, 8, 9}\n",
      "{0, 3, 7, 8, 9}\n",
      "{0, 3, 7, 8, 9}\n",
      "{6}\n",
      "{4}\n",
      "{6}\n",
      "{4}\n"
     ]
    }
   ],
   "source": [
    "#Union Operation -It will combine all the values \n",
    "#uniquely once in the output\n",
    "print(setA.union(setB))\n",
    "print(setA | setB)\n",
    "\n",
    "#Intersect Operation - It will find common unique values \n",
    "#btw the sets\n",
    "print(setA.intersection(setB))\n",
    "print(setA & setB)\n",
    "\n",
    "#difference operation - it will take the values from set1 \n",
    "#which is not present in set2.\n",
    "print(setA.difference(setB))\n",
    "print(setB.difference(setA))\n",
    "print(setA-setB)\n",
    "print(setB-setA)"
   ]
  },
  {
   "cell_type": "markdown",
   "metadata": {},
   "source": [
    "#### Dictionaries\n",
    "Dictionary is a set of Key & value pair. It is a container that contains data, enclosed within curly braces.The pair i.e., key and value is known as item. The key passed in the item must be unique."
   ]
  },
  {
   "cell_type": "code",
   "execution_count": 13,
   "metadata": {},
   "outputs": [
    {
     "name": "stdout",
     "output_type": "stream",
     "text": [
      "{1: 'A', 2: 'B'}\n",
      "{'name': ['John', 'Eric', 'Alex'], 'ID': [2, 4, 6], 'Marks': [36, 43, 39], 'random': [2, 4, 6]}\n",
      "John\n",
      "6\n"
     ]
    }
   ],
   "source": [
    "#Creating a dictionary\n",
    "my_d1={1:'A',2:'B'}\n",
    "print(my_d1)\n",
    "\n",
    "my_d2={\"name\":[\"John\",\"Eric\",\"Alex\"],\"ID\":[2,4,6],\n",
    "       \"Marks\":[34,45,38],\n",
    "       \"Marks\":[36,43,39],\"random\":[2,4,6]}\n",
    "print(my_d2)\n",
    "\n",
    "\n",
    "\n",
    "print(my_d2[\"name\"][0])\n",
    "print(my_d2['ID'][2])  # key indexing"
   ]
  },
  {
   "cell_type": "code",
   "execution_count": 14,
   "metadata": {},
   "outputs": [
    {
     "name": "stdout",
     "output_type": "stream",
     "text": [
      "{'name': ['John', 'Eric', 'Alex'], 'ID': [2, 4, 6], 'Marks': [36, 43, 39], 'random': [2, 4, 6]}\n"
     ]
    }
   ],
   "source": [
    "print(my_d2)"
   ]
  },
  {
   "cell_type": "code",
   "execution_count": 15,
   "metadata": {},
   "outputs": [
    {
     "name": "stdout",
     "output_type": "stream",
     "text": [
      "   name  ID  Marks  random\n",
      "0  John   2     36       2\n",
      "1  Eric   4     43       4\n",
      "2  Alex   6     39       6\n"
     ]
    }
   ],
   "source": [
    "import pandas as pd\n",
    "df=pd.DataFrame(my_d2)\n",
    "print(df)"
   ]
  },
  {
   "cell_type": "code",
   "execution_count": 16,
   "metadata": {},
   "outputs": [
    {
     "name": "stdout",
     "output_type": "stream",
     "text": [
      "{'Name': 'Eric', 'age': 25}\n",
      "{'Name': 'Eric', 'age': 25, 'addresss': 'Mumbai'}\n"
     ]
    }
   ],
   "source": [
    "my_d={\"Name\":\"Eric\",\"age\":27}\n",
    "my_d['age']=25\n",
    "print(my_d)\n",
    "\n",
    "my_d['addresss']='Mumbai'\n",
    "print(my_d)"
   ]
  },
  {
   "cell_type": "code",
   "execution_count": 17,
   "metadata": {},
   "outputs": [
    {
     "name": "stdout",
     "output_type": "stream",
     "text": [
      "{'Name': 'Eric', 'addresss': 'Mumbai'}\n"
     ]
    }
   ],
   "source": [
    "del my_d[\"age\"]\n",
    "print(my_d)"
   ]
  },
  {
   "cell_type": "code",
   "execution_count": 18,
   "metadata": {},
   "outputs": [
    {
     "data": {
      "text/plain": [
       "{'name': ['John', 'Eric', 'Alex'],\n",
       " 'ID': [2, 4, 6],\n",
       " 'Marks': [36, 43, 39],\n",
       " 'random': [2, 4, 6]}"
      ]
     },
     "execution_count": 18,
     "metadata": {},
     "output_type": "execute_result"
    }
   ],
   "source": [
    "my_d2"
   ]
  },
  {
   "cell_type": "code",
   "execution_count": 19,
   "metadata": {},
   "outputs": [
    {
     "name": "stdout",
     "output_type": "stream",
     "text": [
      "{'name': ['John', 'Eric', 'Hitesh'], 'ID': [2, 4, 6], 'Marks': [36, 43, 39], 'random': [2, 4, 6]}\n",
      "{'name': ['John', 'Eric', 'Hitesh', 'Sam'], 'ID': [2, 4, 6], 'Marks': [36, 43, 39], 'random': [2, 4, 6]}\n"
     ]
    }
   ],
   "source": [
    "my_d2[\"name\"][2]=\"Hitesh\"\n",
    "print(my_d2)\n",
    "my_d2['name'].append('Sam')\n",
    "print(my_d2)"
   ]
  },
  {
   "cell_type": "code",
   "execution_count": 20,
   "metadata": {},
   "outputs": [
    {
     "data": {
      "text/plain": [
       "{'name': ['John', 'Eric', 'Roy', 'Hitesh', 'Sam'],\n",
       " 'ID': [2, 4, 6],\n",
       " 'Marks': [36, 43, 39],\n",
       " 'random': [2, 4, 6]}"
      ]
     },
     "execution_count": 20,
     "metadata": {},
     "output_type": "execute_result"
    }
   ],
   "source": [
    "my_d2['name'].insert(2,\"Roy\")\n",
    "my_d2"
   ]
  },
  {
   "cell_type": "code",
   "execution_count": 21,
   "metadata": {},
   "outputs": [
    {
     "name": "stdout",
     "output_type": "stream",
     "text": [
      "2\n"
     ]
    }
   ],
   "source": [
    "my_d={\"Name\":\"Eric\",\"age\":27}\n",
    "print(len(my_d))"
   ]
  },
  {
   "cell_type": "code",
   "execution_count": 22,
   "metadata": {},
   "outputs": [
    {
     "data": {
      "text/plain": [
       "4"
      ]
     },
     "execution_count": 22,
     "metadata": {},
     "output_type": "execute_result"
    }
   ],
   "source": [
    "len(my_d2)"
   ]
  },
  {
   "cell_type": "markdown",
   "metadata": {},
   "source": [
    "clear() : The clear() method removes all items from the dictionary"
   ]
  },
  {
   "cell_type": "code",
   "execution_count": 23,
   "metadata": {},
   "outputs": [
    {
     "name": "stdout",
     "output_type": "stream",
     "text": [
      "{1: 'Python', 2: 'Java', 3: 'C++', 4: 'PHP'}\n"
     ]
    }
   ],
   "source": [
    "dict1 = {1:'Python',2:'Java',3:'C++',4:'PHP'}\n",
    "\n",
    "#dict1.clear()\n",
    "print(dict1)"
   ]
  },
  {
   "cell_type": "markdown",
   "metadata": {},
   "source": [
    "copy() : The copy() method returns the copy of the dictionary"
   ]
  },
  {
   "cell_type": "code",
   "execution_count": 24,
   "metadata": {},
   "outputs": [
    {
     "name": "stdout",
     "output_type": "stream",
     "text": [
      "{1: 'Python', 2: 'Java', 3: 'C++', 4: 'PHP'}\n"
     ]
    }
   ],
   "source": [
    "dict1 = {1:'Python',2:'Java',3:'C++',4:'PHP'}\n",
    "dict2 = dict1.copy()\n",
    "print(dict2)"
   ]
  },
  {
   "cell_type": "markdown",
   "metadata": {},
   "source": [
    "items() : The method items() returns a list of items(key,value) tuple pairs"
   ]
  },
  {
   "cell_type": "code",
   "execution_count": 25,
   "metadata": {},
   "outputs": [
    {
     "name": "stdout",
     "output_type": "stream",
     "text": [
      "dict_items([(1, 'Python'), (2, 'Java'), (3, 'C++'), (4, 'PHP')])\n"
     ]
    }
   ],
   "source": [
    "print(dict1.items())"
   ]
  },
  {
   "cell_type": "markdown",
   "metadata": {},
   "source": [
    "keys() : The method keys() returns a list of all the available keys in the dictionary."
   ]
  },
  {
   "cell_type": "code",
   "execution_count": 26,
   "metadata": {},
   "outputs": [
    {
     "name": "stdout",
     "output_type": "stream",
     "text": [
      "dict_keys([1, 2, 3, 4])\n"
     ]
    }
   ],
   "source": [
    "print(dict1.keys())"
   ]
  },
  {
   "cell_type": "markdown",
   "metadata": {},
   "source": [
    "values() : The method values() returns a list of all the values available in the given dictionary"
   ]
  },
  {
   "cell_type": "code",
   "execution_count": 27,
   "metadata": {},
   "outputs": [
    {
     "name": "stdout",
     "output_type": "stream",
     "text": [
      "dict_values(['Python', 'Java', 'C++', 'PHP'])\n"
     ]
    }
   ],
   "source": [
    "print(dict1.values())"
   ]
  },
  {
   "cell_type": "code",
   "execution_count": null,
   "metadata": {},
   "outputs": [],
   "source": []
  }
 ],
 "metadata": {
  "kernelspec": {
   "display_name": "Python 3",
   "language": "python",
   "name": "python3"
  },
  "language_info": {
   "codemirror_mode": {
    "name": "ipython",
    "version": 3
   },
   "file_extension": ".py",
   "mimetype": "text/x-python",
   "name": "python",
   "nbconvert_exporter": "python",
   "pygments_lexer": "ipython3",
   "version": "3.7.6"
  }
 },
 "nbformat": 4,
 "nbformat_minor": 5
}
