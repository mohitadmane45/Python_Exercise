{
 "cells": [
  {
   "cell_type": "markdown",
   "metadata": {},
   "source": [
    "### Numpy"
   ]
  },
  {
   "cell_type": "markdown",
   "metadata": {},
   "source": [
    "\n",
    "Numpy:- Numpy stands for numerical python and is the core library for numeric and scientific computing, It consists of multi-dimensional array objects\n",
    "\n",
    "Its an homogeneous in nature the numpy list contains single datatype\n",
    "The array which we are using doesnot supports multi-dimensional, It only allows 1(single dimension).\n",
    "So to work on multi-dimension array we use 3rd party package called Numpy"
   ]
  },
  {
   "cell_type": "code",
   "execution_count": 1,
   "metadata": {},
   "outputs": [
    {
     "name": "stdout",
     "output_type": "stream",
     "text": [
      "Requirement already satisfied: numpy in c:\\dell\\lib\\site-packages (1.18.2)\n"
     ]
    },
    {
     "name": "stderr",
     "output_type": "stream",
     "text": [
      "DEPRECATION: pyodbc 4.0.0-unsupported has a non-standard version number. pip 23.3 will enforce this behaviour change. A possible replacement is to upgrade to a newer version of pyodbc or contact the author to suggest that they release a version with a conforming version number. Discussion can be found at https://github.com/pypa/pip/issues/12063\n",
      "\n",
      "[notice] A new release of pip is available: 23.2.1 -> 23.3\n",
      "[notice] To update, run: python.exe -m pip install --upgrade pip\n"
     ]
    }
   ],
   "source": [
    "!pip install numpy"
   ]
  },
  {
   "cell_type": "code",
   "execution_count": 2,
   "metadata": {},
   "outputs": [],
   "source": [
    "import warnings\n",
    "warnings.filterwarnings('ignore')"
   ]
  },
  {
   "cell_type": "code",
   "execution_count": 3,
   "metadata": {},
   "outputs": [
    {
     "data": {
      "text/plain": [
       "'1.18.2'"
      ]
     },
     "execution_count": 3,
     "metadata": {},
     "output_type": "execute_result"
    }
   ],
   "source": [
    "import numpy as np\n",
    "np.__version__"
   ]
  },
  {
   "cell_type": "code",
   "execution_count": 6,
   "metadata": {},
   "outputs": [
    {
     "name": "stdout",
     "output_type": "stream",
     "text": [
      "[3 4 5 9]\n"
     ]
    },
    {
     "data": {
      "text/plain": [
       "numpy.ndarray"
      ]
     },
     "execution_count": 6,
     "metadata": {},
     "output_type": "execute_result"
    }
   ],
   "source": [
    "a = np.array([3,4,5.6,9],dtype=\"int32\")\n",
    "print(a)\n",
    "type(a)"
   ]
  },
  {
   "cell_type": "code",
   "execution_count": 7,
   "metadata": {},
   "outputs": [
    {
     "name": "stdout",
     "output_type": "stream",
     "text": [
      "1\n"
     ]
    }
   ],
   "source": [
    "# Getting the dimensions\n",
    "print(a.ndim)\n",
    "#ndim is used to find the dimension of the array"
   ]
  },
  {
   "cell_type": "code",
   "execution_count": 8,
   "metadata": {},
   "outputs": [
    {
     "name": "stdout",
     "output_type": "stream",
     "text": [
      "[[2 3 4 5 6]\n",
      " [4 6 8 0 4]]\n",
      "2\n",
      "<class 'numpy.ndarray'>\n"
     ]
    },
    {
     "data": {
      "text/plain": [
       "(2, 5)"
      ]
     },
     "execution_count": 8,
     "metadata": {},
     "output_type": "execute_result"
    }
   ],
   "source": [
    "a1 = np.array([[2,3,4,5,6],[4,6,8,0,4]])\n",
    "print(a1)\n",
    "# Getting the shape of the array\n",
    "print(a1.ndim)\n",
    "print(type(a1))\n",
    "#shape is used to find out the no. of rows & columns in the array\n",
    "a1.shape"
   ]
  },
  {
   "cell_type": "code",
   "execution_count": 9,
   "metadata": {},
   "outputs": [
    {
     "name": "stdout",
     "output_type": "stream",
     "text": [
      "[[[ 3.  4.  5.  6.  6.  7.]\n",
      "  [ 6.  6.  9.  0. 16.  7.]]\n",
      "\n",
      " [[ 3.  6. 66. 90. 34.  3.]\n",
      "  [34. 22.  1.  3.  2.  3.]]\n",
      "\n",
      " [[ 5.  6.  7.  1.  1.  1.]\n",
      "  [ 2.  3.  4.  1.  3.  4.]]]\n",
      "3\n",
      "(3, 2, 6)\n"
     ]
    }
   ],
   "source": [
    "b = np.array([[[3,4,5,6,6,7],[6,6,9,0,16,7]],\n",
    "              [[3,6,66,90,34,3],[34,22,1,3,2,3]],\n",
    "              [[5,6,7,1,1,1],[2,3,4,1,3,4]]],dtype=\"float32\")\n",
    "print(b)\n",
    "print(b.ndim)\n",
    "print(b.shape)\n",
    "# 3 is no. of sets, 2 = no.of rows & 6= no. of columns"
   ]
  },
  {
   "cell_type": "markdown",
   "metadata": {},
   "source": [
    "### Indexing and Slicing"
   ]
  },
  {
   "cell_type": "code",
   "execution_count": 10,
   "metadata": {},
   "outputs": [
    {
     "name": "stdout",
     "output_type": "stream",
     "text": [
      "[[2 3 4]\n",
      " [5 9 0]\n",
      " [2 8 7]\n",
      " [3 1 6]]\n",
      "0\n",
      "\n",
      "3\n",
      "\n",
      "7\n",
      "\n",
      "[2 5]\n",
      "\n",
      "[4 0 7 6]\n",
      "\n",
      "[2 8 7]\n",
      "\n",
      "[2 4]\n"
     ]
    }
   ],
   "source": [
    "x = np.array([[2,3,4],[5,9,0],[2,8,7],[3,1,6]])\n",
    "print(x)\n",
    "print(x[1,2])\n",
    "print()\n",
    "print(x[3,0])\n",
    "print()\n",
    "print(x[2,2])\n",
    "print()\n",
    "print(x[0:2,0])\n",
    "print()\n",
    "print(x[:,2])\n",
    "print()\n",
    "print(x[2,:])\n",
    "print()\n",
    "print(x[0, ::2])"
   ]
  },
  {
   "cell_type": "code",
   "execution_count": 11,
   "metadata": {},
   "outputs": [
    {
     "name": "stdout",
     "output_type": "stream",
     "text": [
      "[[ 1  2  3  4]\n",
      " [ 3  4  5  6]\n",
      " [ 8  9 10 11]]\n",
      "8\n",
      "[ 3  5 10]\n",
      "[[1 2 3 4]\n",
      " [3 4 5 6]]\n"
     ]
    }
   ],
   "source": [
    "import numpy as np\n",
    "a=np.array([[1,2,3,4],[3,4,5,6],[8,9,10,11]])\n",
    "print(a)\n",
    "print(a[2,0])\n",
    "print(a[:,2])\n",
    "print(a[0:2,:])"
   ]
  },
  {
   "cell_type": "code",
   "execution_count": 12,
   "metadata": {},
   "outputs": [
    {
     "name": "stdout",
     "output_type": "stream",
     "text": [
      "[[[1 3]\n",
      "  [3 4]]\n",
      "\n",
      " [[5 6]\n",
      "  [7 8]]]\n",
      "3\n"
     ]
    }
   ],
   "source": [
    "import numpy as np\n",
    "b = np.array([[[1,3],[3,4]],[[5,6],[7,8]]],dtype='int64')\n",
    "print(b)\n",
    "print(b.ndim)"
   ]
  },
  {
   "cell_type": "code",
   "execution_count": 13,
   "metadata": {},
   "outputs": [
    {
     "name": "stdout",
     "output_type": "stream",
     "text": [
      "4\n"
     ]
    }
   ],
   "source": [
    "print(b[0,1,1])"
   ]
  },
  {
   "cell_type": "code",
   "execution_count": 14,
   "metadata": {},
   "outputs": [
    {
     "name": "stdout",
     "output_type": "stream",
     "text": [
      "[[3 4]\n",
      " [7 8]]\n"
     ]
    }
   ],
   "source": [
    "print(b[:,1,:])"
   ]
  },
  {
   "cell_type": "markdown",
   "metadata": {},
   "source": [
    "### Initializing Different Types of Arrays"
   ]
  },
  {
   "cell_type": "code",
   "execution_count": 15,
   "metadata": {},
   "outputs": [
    {
     "name": "stdout",
     "output_type": "stream",
     "text": [
      "[[[1 1 1 1 1]\n",
      "  [1 1 1 1 1]]\n",
      "\n",
      " [[1 1 1 1 1]\n",
      "  [1 1 1 1 1]]]\n",
      "3\n",
      "[[1. 1. 1.]\n",
      " [1. 1. 1.]\n",
      " [1. 1. 1.]]\n",
      "2\n"
     ]
    }
   ],
   "source": [
    "x = np.ones((2,2,5),dtype='int32')\n",
    "print(x)\n",
    "print(x.ndim)\n",
    "\n",
    "a=np.ones((3,3))\n",
    "print(a)\n",
    "print(a.ndim)"
   ]
  },
  {
   "cell_type": "code",
   "execution_count": 16,
   "metadata": {},
   "outputs": [
    {
     "name": "stdout",
     "output_type": "stream",
     "text": [
      "[[0. 0. 0. 0. 0.]]\n",
      "(1, 5)\n",
      "2\n",
      "[[0 0 0]\n",
      " [0 0 0]]\n"
     ]
    }
   ],
   "source": [
    "a = np.zeros((1,5))\n",
    "print(a)\n",
    "print(a.shape)\n",
    "print(a.ndim)\n",
    "\n",
    "import warnings\n",
    "warnings.filterwarnings(\"ignore\")\n",
    "print(np.zeros((2,3),dtype=np.int))"
   ]
  },
  {
   "cell_type": "code",
   "execution_count": 17,
   "metadata": {},
   "outputs": [
    {
     "name": "stdout",
     "output_type": "stream",
     "text": [
      "[[12 12 12 12]\n",
      " [12 12 12 12]\n",
      " [12 12 12 12]]\n",
      "\n",
      "[[3.6 3.6 3.6 3.6 3.6]\n",
      " [3.6 3.6 3.6 3.6 3.6]]\n"
     ]
    }
   ],
   "source": [
    "c = np.full((3,4),12)\n",
    "print(c)\n",
    "print()\n",
    "\n",
    "print(np.full((2,5),3.6))"
   ]
  },
  {
   "cell_type": "code",
   "execution_count": 18,
   "metadata": {},
   "outputs": [
    {
     "name": "stdout",
     "output_type": "stream",
     "text": [
      "[[1. 0. 0.]\n",
      " [0. 1. 0.]\n",
      " [0. 0. 1.]]\n",
      "\n",
      "[[1 0 0 0 0]\n",
      " [0 1 0 0 0]\n",
      " [0 0 1 0 0]\n",
      " [0 0 0 1 0]\n",
      " [0 0 0 0 1]]\n"
     ]
    }
   ],
   "source": [
    "b = np.identity(3)\n",
    "print(b)\n",
    "print()\n",
    "print(np.identity(5,dtype=np.int))"
   ]
  },
  {
   "cell_type": "code",
   "execution_count": 19,
   "metadata": {},
   "outputs": [
    {
     "name": "stdout",
     "output_type": "stream",
     "text": [
      "[ 0.  5. 10. 15. 20. 25. 30. 35. 40.]\n",
      "\n",
      "[[  1   3   5   7   9  11]\n",
      " [ 13  15  17  19  21  23]\n",
      " [ 25  27  29  31  33  35]\n",
      " [ 37  39  41  43  45  47]\n",
      " [ 49  51  53  55  57  59]\n",
      " [ 61  63  65  67  69  71]\n",
      " [ 73  75  77  79  81  83]\n",
      " [ 85  87  89  91  93  95]\n",
      " [ 97  99 101 103 105 107]\n",
      " [109 111 113 115 117 119]]\n",
      "[[0.22669026 0.41998047 0.82535457 0.76539173]\n",
      " [0.06254506 0.24115746 0.19580544 0.34336246]\n",
      " [0.21453261 0.77232751 0.91202505 0.56121   ]]\n",
      "[[95 81 52 63]\n",
      " [66 66 84 75]\n",
      " [83 68 93 74]]\n"
     ]
    }
   ],
   "source": [
    "#np.random.seed(10)\n",
    "#it is used to get fixed output everytime\n",
    "\n",
    "a=np.linspace(0,40,9)\n",
    "#linspace is used if I want to divide my range into\n",
    "#n no.of parts\n",
    "print(a)\n",
    "print()\n",
    "\n",
    "a=np.arange(1,121,2).reshape(10,6)\n",
    "# it works by creating step difference in your given range\n",
    "print(a)\n",
    "\n",
    "a=np.random.random((3,4))\n",
    "#randomnly creates an array of desired range most\n",
    "#of the times it is between 0-1\n",
    "print(a)\n",
    "\n",
    "a=np.random.randint(50,101,(3,4))\n",
    "# randomly creates an array of desired range & the arrays\n",
    "#consists of integer datatype in the given range.\n",
    "print(a)"
   ]
  },
  {
   "cell_type": "code",
   "execution_count": 20,
   "metadata": {},
   "outputs": [
    {
     "name": "stdout",
     "output_type": "stream",
     "text": [
      "[[[97.97243408 93.11607994 89.44696515]\n",
      "  [94.82384327 70.49128098 90.94066216]]\n",
      "\n",
      " [[73.18519097 86.01502815 79.85463308]\n",
      "  [90.77158204 97.00396492 66.50770449]]]\n"
     ]
    }
   ],
   "source": [
    "#np.random.seed(10)\n",
    "#uniform helps to give the float output from the given range\n",
    "a=np.random.uniform(50,100,(2,2,3))\n",
    "print(a)"
   ]
  },
  {
   "cell_type": "code",
   "execution_count": 21,
   "metadata": {},
   "outputs": [
    {
     "name": "stdout",
     "output_type": "stream",
     "text": [
      "8\n",
      "13\n",
      "63\n",
      "10.5\n",
      "10.5\n"
     ]
    }
   ],
   "source": [
    "#aggregate functions\n",
    "a=np.array([[8,9],[10,11],[12,13]])\n",
    "print(a.min())\n",
    "print(a.max())\n",
    "print(a.sum())\n",
    "print(a.mean())\n",
    "print(np.mean(a))"
   ]
  },
  {
   "cell_type": "code",
   "execution_count": 22,
   "metadata": {},
   "outputs": [
    {
     "name": "stdout",
     "output_type": "stream",
     "text": [
      "[[1.         0.         1.73205081]\n",
      " [1.73205081 2.         2.23606798]]\n",
      "1.699673171197595\n",
      "[[0.               -inf 1.09861229]\n",
      " [1.09861229 1.38629436 1.60943791]]\n",
      "[[1.   0.   1.73]\n",
      " [1.73 2.   2.24]]\n",
      "[[1.     0.     1.7321]\n",
      " [1.7321 2.     2.2361]]\n"
     ]
    }
   ],
   "source": [
    "#math functions\n",
    "a=np.array([[1,0,3],[3,4,5]])\n",
    "\n",
    "print(np.sqrt(a))\n",
    "print(np.std(a))\n",
    "print(np.log(a))\n",
    "b=np.sqrt(a)\n",
    "print(b.round(2))\n",
    "print(b.round(4))"
   ]
  },
  {
   "cell_type": "code",
   "execution_count": 23,
   "metadata": {},
   "outputs": [
    {
     "name": "stdout",
     "output_type": "stream",
     "text": [
      "[[1 2]\n",
      " [3 4]]\n",
      "[[5 6]\n",
      " [3 4]]\n",
      "[[6 8]\n",
      " [6 8]]\n",
      "[[-4 -4]\n",
      " [ 0  0]]\n",
      "[[ 5 12]\n",
      " [ 9 16]]\n",
      "[[0.2        0.33333333]\n",
      " [1.         1.        ]]\n",
      "[[1 2]\n",
      " [0 0]]\n",
      "[[11 14]\n",
      " [27 34]]\n"
     ]
    }
   ],
   "source": [
    "x=np.array([[1,2],[3,4]])\n",
    "y=np.array([[5,6],[3,4]])\n",
    "print(x)\n",
    "print(y)\n",
    "print(x+y)\n",
    "print(x-y)\n",
    "print(x*y)\n",
    "print(x/y)\n",
    "print(x%y)\n",
    "print(x@y)"
   ]
  },
  {
   "cell_type": "code",
   "execution_count": 24,
   "metadata": {},
   "outputs": [
    {
     "name": "stdout",
     "output_type": "stream",
     "text": [
      "[[1 7 3]\n",
      " [3 4 5]]\n",
      "[[1 7 1]\n",
      " [3 4 2]]\n"
     ]
    }
   ],
   "source": [
    "x=np.array([(1,2,3),(3,4,5)])\n",
    "x[0,1]=7\n",
    "print(x)\n",
    "\n",
    "x[:,2] = [1,2]\n",
    "print(x)"
   ]
  },
  {
   "cell_type": "code",
   "execution_count": 25,
   "metadata": {},
   "outputs": [
    {
     "name": "stdout",
     "output_type": "stream",
     "text": [
      "[[[1 2]\n",
      "  [3 4]]\n",
      "\n",
      " [[5 6]\n",
      "  [7 8]]]\n",
      "[[[1 2]\n",
      "  [9 9]]\n",
      "\n",
      " [[5 6]\n",
      "  [8 8]]]\n"
     ]
    }
   ],
   "source": [
    "b = np.array([[[1,2],[3,4]],[[5,6],[7,8]]])\n",
    "print(b)\n",
    "\n",
    "b[:,1,:]=[[9,9],[8,8]]\n",
    "print(b)"
   ]
  },
  {
   "cell_type": "code",
   "execution_count": 27,
   "metadata": {},
   "outputs": [
    {
     "name": "stdout",
     "output_type": "stream",
     "text": [
      "[[1 7 1]\n",
      " [3 4 2]]\n"
     ]
    }
   ],
   "source": [
    "print(x)"
   ]
  },
  {
   "cell_type": "code",
   "execution_count": 28,
   "metadata": {},
   "outputs": [
    {
     "name": "stdout",
     "output_type": "stream",
     "text": [
      "[1 7 1 3 4 2]\n"
     ]
    }
   ],
   "source": [
    "print(x.ravel())                #ravel puts the 2d 3d in 1d"
   ]
  },
  {
   "cell_type": "code",
   "execution_count": 29,
   "metadata": {},
   "outputs": [
    {
     "name": "stdout",
     "output_type": "stream",
     "text": [
      "[[1 7]\n",
      " [1 3]\n",
      " [4 2]]\n"
     ]
    }
   ],
   "source": [
    "print(x.reshape((3,2)))"
   ]
  },
  {
   "cell_type": "code",
   "execution_count": null,
   "metadata": {},
   "outputs": [],
   "source": []
  },
  {
   "cell_type": "code",
   "execution_count": null,
   "metadata": {},
   "outputs": [],
   "source": []
  }
 ],
 "metadata": {
  "kernelspec": {
   "display_name": "Python 3",
   "language": "python",
   "name": "python3"
  },
  "language_info": {
   "codemirror_mode": {
    "name": "ipython",
    "version": 3
   },
   "file_extension": ".py",
   "mimetype": "text/x-python",
   "name": "python",
   "nbconvert_exporter": "python",
   "pygments_lexer": "ipython3",
   "version": "3.7.6"
  }
 },
 "nbformat": 4,
 "nbformat_minor": 5
}
