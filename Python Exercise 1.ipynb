{
 "cells": [
  {
   "cell_type": "markdown",
   "metadata": {},
   "source": [
    "### Variable\n",
    "\n",
    "Variable is an identifier which holds some value.Variables refers data in a computer memory.\n",
    "Python Variable Name Rules:\n",
    "\n",
    "A variable name must start with a letter or the underscore character\n",
    "\n",
    "A variable name cannot start with a number\n",
    "\n",
    "A variable name can only contain alpha-numeric characters and underscores (A-z, 0-9, and _ )\n",
    "\n",
    "Variable names are case-sensitive (firstname, Firstname, FirstName and FIRSTNAME) are different variables)"
   ]
  },
  {
   "cell_type": "code",
   "execution_count": 51,
   "metadata": {},
   "outputs": [
    {
     "name": "stdout",
     "output_type": "stream",
     "text": [
      "<class 'float'>\n",
      "5\n",
      "3.5\n",
      "<class 'int'>\n"
     ]
    }
   ],
   "source": [
    "a=5\n",
    "c=3.5\n",
    "print(type(c))\n",
    "print(a)\n",
    "print(c)\n",
    "print(type(a))"
   ]
  },
  {
   "cell_type": "code",
   "execution_count": 52,
   "metadata": {},
   "outputs": [
    {
     "name": "stdout",
     "output_type": "stream",
     "text": [
      "<class 'str'>\n",
      "<class 'bool'>\n",
      "<class 'int'>\n"
     ]
    }
   ],
   "source": [
    "b=\"True\"\n",
    "print(type(b))\n",
    "\n",
    "value = True\n",
    "print(type(value))\n",
    "\n",
    "s = 24628\n",
    "print(type(s))"
   ]
  },
  {
   "cell_type": "markdown",
   "metadata": {},
   "source": [
    "Declaring Multiple Variable in a Line"
   ]
  },
  {
   "cell_type": "code",
   "execution_count": 53,
   "metadata": {},
   "outputs": [
    {
     "name": "stdout",
     "output_type": "stream",
     "text": [
      "raj joshi india 25\n",
      "first_name raj\n",
      "last_name joshi\n",
      "country india\n",
      "age 25\n",
      "<class 'int'>\n",
      "first name: raj last name: country: india age 25\n"
     ]
    }
   ],
   "source": [
    "first_name,last_name,country,age = 'raj', 'joshi','india',25\n",
    "print(first_name,last_name,country,age)\n",
    "print('first_name',first_name)\n",
    "print('last_name',last_name)\n",
    "print('country',country)\n",
    "print('age',age)\n",
    "print(type(age))\n",
    "print('first name:',first_name,'last name:','country:',country,'age',age)"
   ]
  },
  {
   "cell_type": "code",
   "execution_count": 54,
   "metadata": {},
   "outputs": [
    {
     "name": "stdout",
     "output_type": "stream",
     "text": [
      "10\n",
      "30\n",
      "cat\n"
     ]
    }
   ],
   "source": [
    "a=10\n",
    "b=a\n",
    "print(b)\n",
    "b=30\n",
    "a='cat'\n",
    "print(b)\n",
    "print(a)"
   ]
  },
  {
   "cell_type": "code",
   "execution_count": 55,
   "metadata": {},
   "outputs": [
    {
     "name": "stdout",
     "output_type": "stream",
     "text": [
      "<class 'float'>\n",
      "11.2\n",
      "11.2\n"
     ]
    }
   ],
   "source": [
    "#python does type inferencing automatically \n",
    "a=5\n",
    "b=6.2\n",
    "print(type(b)) #returns the datatype of the object \n",
    "print(a+b)\n",
    "c = a+b\n",
    "print(c)"
   ]
  },
  {
   "cell_type": "markdown",
   "metadata": {},
   "source": [
    "when the Python itself automatically considers the data type of the values it is said to be 'implicit' in nature.\n",
    "When the programmers specifies what kind of data to be present in the variables then it is said to be 'explicit' in nature."
   ]
  },
  {
   "cell_type": "markdown",
   "metadata": {},
   "source": [
    "### Built in functions\n",
    "In Python we have lots of built-in functions. Built-in functions are globally available for your use that mean you can make use of the built-in functions without importing or configuring. Some of the most commonly used Python built-in functions are the following: print(), len(), type(), int(), float(), str(), input(), list(), dict(), min(), max(), sum(), sorted(), open(), file(), help(), and dir()"
   ]
  },
  {
   "cell_type": "code",
   "execution_count": 56,
   "metadata": {
    "scrolled": true
   },
   "outputs": [
    {
     "name": "stdout",
     "output_type": "stream",
     "text": [
      "enter your name:mohit\n",
      "hello  mohit\n"
     ]
    }
   ],
   "source": [
    "name = input(\"enter your name:\")\n",
    "print (\"hello \",name)"
   ]
  },
  {
   "cell_type": "code",
   "execution_count": 57,
   "metadata": {},
   "outputs": [
    {
     "name": "stdout",
     "output_type": "stream",
     "text": [
      "enter your 1st num:1\n",
      "enter your 2nd num:2\n",
      "3\n"
     ]
    }
   ],
   "source": [
    "num1 = int(input('enter your 1st num:'))\n",
    "num2 = int(input('enter your 2nd num:'))\n",
    "print(num1+num2)"
   ]
  },
  {
   "cell_type": "code",
   "execution_count": 58,
   "metadata": {
    "scrolled": true
   },
   "outputs": [
    {
     "name": "stdout",
     "output_type": "stream",
     "text": [
      "Enter your 1st num:2\n",
      "Enter your 2nd num:3\n",
      "5\n"
     ]
    }
   ],
   "source": [
    "num1 = int(input('Enter your 1st num:'))\n",
    "num2 = int(input('Enter your 2nd num:'))\n",
    "print(num1+num2)"
   ]
  },
  {
   "cell_type": "code",
   "execution_count": 60,
   "metadata": {
    "scrolled": true
   },
   "outputs": [
    {
     "name": "stdout",
     "output_type": "stream",
     "text": [
      "4.4\n",
      "4.4\n",
      "4.7\n",
      "9.100000000000001\n"
     ]
    }
   ],
   "source": [
    "num1=float(input())\n",
    "print(num1)\n",
    "num2=float(input())\n",
    "print(num1+num2)"
   ]
  },
  {
   "cell_type": "code",
   "execution_count": 61,
   "metadata": {},
   "outputs": [
    {
     "name": "stdout",
     "output_type": "stream",
     "text": [
      "5\n"
     ]
    }
   ],
   "source": [
    "#the len() function doesnot work upon int & float data types \n",
    "values = \"26478\"\n",
    "print(len(values))"
   ]
  },
  {
   "cell_type": "code",
   "execution_count": 62,
   "metadata": {},
   "outputs": [
    {
     "data": {
      "text/plain": [
       "10"
      ]
     },
     "execution_count": 62,
     "metadata": {},
     "output_type": "execute_result"
    }
   ],
   "source": [
    "date = 'March 1996'\n",
    "len(date)"
   ]
  },
  {
   "cell_type": "code",
   "execution_count": 63,
   "metadata": {},
   "outputs": [
    {
     "name": "stdout",
     "output_type": "stream",
     "text": [
      "We are learning \"Data science\" This is our python session\n"
     ]
    }
   ],
   "source": [
    "print('''We are learning \"Data science\" This is our python session''')"
   ]
  },
  {
   "cell_type": "code",
   "execution_count": 64,
   "metadata": {},
   "outputs": [
    {
     "data": {
      "text/plain": [
       "10"
      ]
     },
     "execution_count": 64,
     "metadata": {},
     "output_type": "execute_result"
    }
   ],
   "source": [
    "date = 'march 1996'\n",
    "len(date)"
   ]
  },
  {
   "cell_type": "code",
   "execution_count": 65,
   "metadata": {},
   "outputs": [
    {
     "name": "stdout",
     "output_type": "stream",
     "text": [
      "we are learing \"data science\" this is our python session\n"
     ]
    }
   ],
   "source": [
    "print('we are learing \"data science\" this is our python session')"
   ]
  },
  {
   "cell_type": "code",
   "execution_count": 66,
   "metadata": {},
   "outputs": [],
   "source": [
    "\"\"\"\n",
    "This is Python Session.\n",
    "we studied about variables\n",
    "we will study about operations\n",
    "\n",
    "\"\"\"\n",
    "a=34"
   ]
  },
  {
   "cell_type": "markdown",
   "metadata": {},
   "source": [
    "Operators - Operators are use to perform operations on variables & values\n",
    "Assignment operators - use to assign values to variables."
   ]
  },
  {
   "cell_type": "code",
   "execution_count": 67,
   "metadata": {},
   "outputs": [
    {
     "name": "stdout",
     "output_type": "stream",
     "text": [
      "Kamal\n"
     ]
    }
   ],
   "source": [
    "# assignment operator \n",
    "name = 'Kamal'\n",
    "age =25\n",
    "city = 'mumbai'\n",
    "print(name)"
   ]
  },
  {
   "cell_type": "code",
   "execution_count": 68,
   "metadata": {},
   "outputs": [],
   "source": [
    "a = 50"
   ]
  },
  {
   "cell_type": "code",
   "execution_count": 69,
   "metadata": {},
   "outputs": [
    {
     "name": "stdout",
     "output_type": "stream",
     "text": [
      "60\n"
     ]
    }
   ],
   "source": [
    "a= 50\n",
    "a = a + 10\n",
    "print(a)"
   ]
  },
  {
   "cell_type": "code",
   "execution_count": 70,
   "metadata": {},
   "outputs": [
    {
     "name": "stdout",
     "output_type": "stream",
     "text": [
      "70\n"
     ]
    }
   ],
   "source": [
    "a+=10\n",
    "print(a)"
   ]
  },
  {
   "cell_type": "code",
   "execution_count": 71,
   "metadata": {},
   "outputs": [
    {
     "name": "stdout",
     "output_type": "stream",
     "text": [
      "65\n"
     ]
    }
   ],
   "source": [
    "a -= 5 \n",
    "print(a)"
   ]
  },
  {
   "cell_type": "markdown",
   "metadata": {},
   "source": [
    "Arithmetic operators(mathematical operators) - Operations will be based upon the mathematical tasks like addition, substraction , multiplication,etc."
   ]
  },
  {
   "cell_type": "code",
   "execution_count": 72,
   "metadata": {},
   "outputs": [
    {
     "name": "stdout",
     "output_type": "stream",
     "text": [
      "\n",
      "\n",
      "\n",
      "\n",
      "\n",
      "\n",
      "\n"
     ]
    }
   ],
   "source": [
    "#arithmetic operator  \n",
    "print() #addition(+)\n",
    "print() #subtraction(-)\n",
    "print() #multiplication(*)\n",
    "print() #divison(/)\n",
    "print() #exponrntial(**)\n",
    "print() #modulus(%)\n",
    "print() #floor division(//)"
   ]
  },
  {
   "cell_type": "code",
   "execution_count": 73,
   "metadata": {},
   "outputs": [
    {
     "name": "stdout",
     "output_type": "stream",
     "text": [
      "379\n",
      "4567653\n",
      "216518.1\n",
      "11.11111111111111\n",
      "25600\n",
      "5\n",
      "11\n"
     ]
    }
   ],
   "source": [
    "# Arithmetic operator\n",
    "print(154+225)   # addition(+)\n",
    "print(4567689-36)   # subtraction(-)\n",
    "print(14434.54*15)   # multiplication(*)\n",
    "print(500/45)   # division(/)\n",
    "print(160**2)  # exponential(**)\n",
    "print(500%45)   # modulus(%)\n",
    "print(500//45)  # Floor division operator(//)"
   ]
  },
  {
   "cell_type": "markdown",
   "metadata": {},
   "source": [
    "Relational Operators - Relational Operators try to built up some relationship between the values Or variables."
   ]
  },
  {
   "cell_type": "code",
   "execution_count": 74,
   "metadata": {},
   "outputs": [
    {
     "name": "stdout",
     "output_type": "stream",
     "text": [
      "True\n",
      "True\n",
      "False\n",
      "True\n",
      "True\n",
      "False\n",
      "True\n",
      "\n",
      "False\n",
      "True\n",
      "True\n",
      "False\n",
      "True\n",
      "True\n",
      "False\n",
      "8\n"
     ]
    }
   ],
   "source": [
    "# Relational Operator\n",
    "print(3 > 2)     # True, because 3 is greater than 2\n",
    "print(3 >= 2)    # True, because 3 is greater than 2\n",
    "print(3 < 2)     # False,  because 3 is greater than 2\n",
    "print(2 < 3)     # True, because 2 is less than 3\n",
    "print(2 <= 3)    # True, because 2 is less than 3\n",
    "print(3 == 2)    # False, because 3 is not equal to 2\n",
    "print(3 != 2)    # True, because 3 is not equal to 2\n",
    "print()\n",
    "print(len('mango') == len('avocado'))  # False\n",
    "print(len('mango') != len('avocado'))  # True\n",
    "print(len('mango') < len('avocado'))   # True\n",
    "print(len('milk') != len('meat'))      # False\n",
    "print(len('milk') == len('meat'))      # True\n",
    "print(len('tomato') == len('potato'))  # True\n",
    "print(len('python') > len('dragon'))   # False\n",
    "print(len('alphabet'))"
   ]
  },
  {
   "cell_type": "code",
   "execution_count": 75,
   "metadata": {},
   "outputs": [
    {
     "data": {
      "text/plain": [
       "True"
      ]
     },
     "execution_count": 75,
     "metadata": {},
     "output_type": "execute_result"
    }
   ],
   "source": [
    "x=3\n",
    "x == 3    # comparison(RELATIONAL OPERATORS)"
   ]
  },
  {
   "cell_type": "code",
   "execution_count": 76,
   "metadata": {},
   "outputs": [
    {
     "name": "stdout",
     "output_type": "stream",
     "text": [
      "5\n",
      "9\n",
      "80\n"
     ]
    }
   ],
   "source": [
    "print(500%45)\n",
    "print(4+5)\n",
    "print(90-10)"
   ]
  },
  {
   "cell_type": "markdown",
   "metadata": {},
   "source": [
    "Logic Operator - Logical operators have 'and',' or ', 'not'"
   ]
  },
  {
   "cell_type": "code",
   "execution_count": 77,
   "metadata": {},
   "outputs": [
    {
     "name": "stdout",
     "output_type": "stream",
     "text": [
      "x and y is  False\n",
      "x or y is  True\n",
      "not x is  False\n",
      "not y is  True\n"
     ]
    }
   ],
   "source": [
    "# Logical Operator\n",
    "x = True\n",
    "y = False\n",
    "print('x and y is ',x and y) # False\n",
    "print('x or y is ',x or y) # True\n",
    "print('not x is ',not x)  # False\n",
    "print('not y is ', not y)"
   ]
  },
  {
   "cell_type": "markdown",
   "metadata": {},
   "source": [
    "Identity Operators - They try to check if the variables are identical or not\n",
    "\n",
    "is - TRUE when both the variables have same values is not - TRUE if both the variables do not same values"
   ]
  },
  {
   "cell_type": "code",
   "execution_count": 78,
   "metadata": {},
   "outputs": [
    {
     "name": "stdout",
     "output_type": "stream",
     "text": [
      "True\n",
      "False\n"
     ]
    }
   ],
   "source": [
    "a = 38\n",
    "b = 95\n",
    "print(a is not b)\n",
    "print(a is b)"
   ]
  },
  {
   "cell_type": "code",
   "execution_count": 79,
   "metadata": {},
   "outputs": [
    {
     "name": "stdout",
     "output_type": "stream",
     "text": [
      "True\n"
     ]
    }
   ],
   "source": [
    "print(a is not b)"
   ]
  },
  {
   "cell_type": "code",
   "execution_count": 80,
   "metadata": {},
   "outputs": [
    {
     "name": "stdout",
     "output_type": "stream",
     "text": [
      "False\n",
      "True\n"
     ]
    }
   ],
   "source": [
    "msg1 = 'Hello'\n",
    "msg2 = 'kamal'\n",
    "\n",
    "print( msg1 is msg2)\n",
    "print( msg1 is not msg2)"
   ]
  },
  {
   "cell_type": "markdown",
   "metadata": {},
   "source": [
    "Membership Operator - Try to find the values used are part or members of particular sequence(list,tuples,dictionaries,sets,strings)\n",
    "\n",
    "in - TRUE when the values or variable is a part of the sequence not in - TRUE when the values or variables are not part of the sequence"
   ]
  },
  {
   "cell_type": "code",
   "execution_count": 81,
   "metadata": {},
   "outputs": [
    {
     "name": "stdout",
     "output_type": "stream",
     "text": [
      "False\n"
     ]
    }
   ],
   "source": [
    "name = \"My name is jayesh\"\n",
    "\n",
    "print('kamal' in name)"
   ]
  },
  {
   "cell_type": "code",
   "execution_count": 82,
   "metadata": {},
   "outputs": [
    {
     "name": "stdout",
     "output_type": "stream",
     "text": [
      "False\n"
     ]
    }
   ],
   "source": [
    "print('jon' in name)"
   ]
  },
  {
   "cell_type": "code",
   "execution_count": 83,
   "metadata": {},
   "outputs": [
    {
     "name": "stdout",
     "output_type": "stream",
     "text": [
      "True\n"
     ]
    }
   ],
   "source": [
    "no = [45,546,-3,99,42,0,188,53]\n",
    "print(77 not in no)"
   ]
  },
  {
   "cell_type": "code",
   "execution_count": 84,
   "metadata": {},
   "outputs": [
    {
     "name": "stdout",
     "output_type": "stream",
     "text": [
      "False\n"
     ]
    }
   ],
   "source": [
    "print(23 in no)"
   ]
  },
  {
   "cell_type": "code",
   "execution_count": null,
   "metadata": {},
   "outputs": [],
   "source": []
  }
 ],
 "metadata": {
  "kernelspec": {
   "display_name": "Python 3",
   "language": "python",
   "name": "python3"
  },
  "language_info": {
   "codemirror_mode": {
    "name": "ipython",
    "version": 3
   },
   "file_extension": ".py",
   "mimetype": "text/x-python",
   "name": "python",
   "nbconvert_exporter": "python",
   "pygments_lexer": "ipython3",
   "version": "3.7.6"
  }
 },
 "nbformat": 4,
 "nbformat_minor": 5
}
