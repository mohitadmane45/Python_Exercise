{
 "cells": [
  {
   "cell_type": "markdown",
   "metadata": {},
   "source": [
    "### Datastructures\n",
    "Datastructures are the building blocks or raw materials for any programming language."
   ]
  },
  {
   "cell_type": "markdown",
   "metadata": {},
   "source": [
    "Numbers"
   ]
  },
  {
   "cell_type": "code",
   "execution_count": 81,
   "metadata": {},
   "outputs": [
    {
     "name": "stdout",
     "output_type": "stream",
     "text": [
      "-2\n",
      "5.0\n",
      "<class 'float'>\n",
      "-2\n",
      "-2\n",
      "<class 'complex'>\n",
      "\u0002\n"
     ]
    }
   ],
   "source": [
    "print(int(-2.8))\n",
    "print(float(5))\n",
    "a=-2.8\n",
    "print(type(a))\n",
    "print(int(-2.8))\n",
    "b=int(a)\n",
    "print(b)\n",
    "d= 4+5j\n",
    "print(type(d))\n",
    "c=chr(2) #ASCII\n",
    "print(c)"
   ]
  },
  {
   "cell_type": "code",
   "execution_count": 82,
   "metadata": {},
   "outputs": [],
   "source": [
    "import math"
   ]
  },
  {
   "cell_type": "code",
   "execution_count": 83,
   "metadata": {},
   "outputs": [],
   "source": [
    "?math"
   ]
  },
  {
   "cell_type": "code",
   "execution_count": 84,
   "metadata": {},
   "outputs": [
    {
     "name": "stdout",
     "output_type": "stream",
     "text": [
      "8.18535277187245\n",
      "3\n",
      "27.0\n",
      "720\n",
      "3.142\n",
      "3.141592653589793\n"
     ]
    }
   ],
   "source": [
    "print(math.sqrt(67))\n",
    "print(math.floor(10.7/3))\n",
    "print(math.pow(3,3))\n",
    "print(math.factorial(6))\n",
    "print(round(math.pi,3))\n",
    "print(math.pi)"
   ]
  },
  {
   "cell_type": "code",
   "execution_count": 85,
   "metadata": {},
   "outputs": [
    {
     "name": "stdout",
     "output_type": "stream",
     "text": [
      "0.6229016948897019\n",
      "48\n",
      "67.92677558779476\n",
      "6\n"
     ]
    }
   ],
   "source": [
    "import random as rn\n",
    "rn.seed(5)\n",
    "print(rn.random())\n",
    "print(rn.randint(1,50))\n",
    "print(rn.uniform(50,100))\n",
    "x=[1,2,3,4,5,6]\n",
    "print(rn.choice(x))"
   ]
  },
  {
   "cell_type": "code",
   "execution_count": 86,
   "metadata": {},
   "outputs": [
    {
     "name": "stdout",
     "output_type": "stream",
     "text": [
      "<class 'str'>\n"
     ]
    }
   ],
   "source": [
    "a = 'abc'\n",
    "print(type(a))"
   ]
  },
  {
   "cell_type": "markdown",
   "metadata": {},
   "source": [
    "### Strings\n",
    "Text is a string data type. Any data type written as text is a string. Any data under single, double or triple quote are strings. There are different string methods and built-in functions to deal with string data types. To check the length of a string use the len() method"
   ]
  },
  {
   "cell_type": "code",
   "execution_count": 87,
   "metadata": {},
   "outputs": [
    {
     "name": "stdout",
     "output_type": "stream",
     "text": [
      "Pic  \n",
      "5\n",
      "Hello, 'World!'\n",
      "15\n",
      "I hope its understandable?\n",
      "26\n"
     ]
    }
   ],
   "source": [
    "letter = 'Pic  '   \n",
    "# A string could be a single character or a bunch of texts\n",
    "print(letter)\n",
    "print(len(letter))\n",
    "greeting = \"Hello, 'World!'\" \n",
    "# String could be made using a single or double quote,\"Hello, World!\"\n",
    "print(greeting)             \n",
    "print(len(greeting))        \n",
    "sentence = \"\"\"I hope its understandable?\"\"\"\n",
    "print(sentence)\n",
    "print(len(sentence))"
   ]
  },
  {
   "cell_type": "markdown",
   "metadata": {},
   "source": [
    "### String Concatenation\n",
    "We can connect strings together. Merging or connecting strings is called concatenation"
   ]
  },
  {
   "cell_type": "code",
   "execution_count": 88,
   "metadata": {},
   "outputs": [
    {
     "name": "stdout",
     "output_type": "stream",
     "text": [
      "Priya Saroj\n",
      "6\n",
      "5\n",
      "True\n",
      "11\n"
     ]
    },
    {
     "ename": "TypeError",
     "evalue": "can only concatenate str (not \"int\") to str",
     "output_type": "error",
     "traceback": [
      "\u001b[1;31m---------------------------------------------------------------------------\u001b[0m",
      "\u001b[1;31mTypeError\u001b[0m                                 Traceback (most recent call last)",
      "\u001b[1;32m<ipython-input-88-0bd2c319940a>\u001b[0m in \u001b[0;36m<module>\u001b[1;34m\u001b[0m\n\u001b[0;32m     10\u001b[0m \u001b[0mprint\u001b[0m\u001b[1;33m(\u001b[0m\u001b[0mlen\u001b[0m\u001b[1;33m(\u001b[0m\u001b[0mfirst_name\u001b[0m\u001b[1;33m)\u001b[0m \u001b[1;33m>\u001b[0m \u001b[0mlen\u001b[0m\u001b[1;33m(\u001b[0m\u001b[0mlast_name\u001b[0m\u001b[1;33m)\u001b[0m\u001b[1;33m)\u001b[0m \u001b[1;31m# False\u001b[0m\u001b[1;33m\u001b[0m\u001b[1;33m\u001b[0m\u001b[0m\n\u001b[0;32m     11\u001b[0m \u001b[0mprint\u001b[0m\u001b[1;33m(\u001b[0m\u001b[0mlen\u001b[0m\u001b[1;33m(\u001b[0m\u001b[0mfull_name\u001b[0m\u001b[1;33m)\u001b[0m\u001b[1;33m)\u001b[0m\u001b[1;33m\u001b[0m\u001b[1;33m\u001b[0m\u001b[0m\n\u001b[1;32m---> 12\u001b[1;33m \u001b[0mprint\u001b[0m\u001b[1;33m(\u001b[0m\u001b[0mfull_name\u001b[0m \u001b[1;33m+\u001b[0m \u001b[1;36m15\u001b[0m\u001b[1;33m)\u001b[0m\u001b[1;33m\u001b[0m\u001b[1;33m\u001b[0m\u001b[0m\n\u001b[0m",
      "\u001b[1;31mTypeError\u001b[0m: can only concatenate str (not \"int\") to str"
     ]
    }
   ],
   "source": [
    "first_name = 'Priya '\n",
    "last_name = 'Saroj'\n",
    "\n",
    "full_name = first_name + last_name\n",
    "print(full_name) \n",
    "\n",
    "# Checking the length of a string using len() built-in function\n",
    "print(len(first_name))  \n",
    "print(len(last_name))   \n",
    "print(len(first_name) > len(last_name)) # False\n",
    "print(len(full_name)) \n",
    "print(full_name + 15)"
   ]
  },
  {
   "cell_type": "markdown",
   "metadata": {},
   "source": [
    "#### String Replication\n",
    "The Replication operater is used to repeat a string no. of times. The string will be repeated the number of times which is given by an integer value"
   ]
  },
  {
   "cell_type": "code",
   "execution_count": null,
   "metadata": {},
   "outputs": [],
   "source": [
    "print('Python\\n'*6)"
   ]
  },
  {
   "cell_type": "code",
   "execution_count": null,
   "metadata": {},
   "outputs": [],
   "source": [
    "c = \"Python\\t\"\n",
    "print(c*10)"
   ]
  },
  {
   "cell_type": "code",
   "execution_count": null,
   "metadata": {},
   "outputs": [],
   "source": [
    "### String formatting\n",
    "(str.format)"
   ]
  },
  {
   "cell_type": "code",
   "execution_count": null,
   "metadata": {},
   "outputs": [],
   "source": [
    "first_name = 'Shravani'\n",
    "last_name = 'Mehta'\n",
    "language = 'SQL'\n",
    "print('I teach',language,'.I am',first_name,last_name,'.')\n",
    "formated_string=f'I teach {language}.I am {first_name} {last_name}.'\n",
    "print(formated_string)\n",
    "\n",
    "formated_string2= ' I teach {}.I am {} {} .'.format(language,first_name,\n",
    "                                                    last_name)\n",
    "print(formated_string2)\n",
    "a = 5\n",
    "b = 9\n",
    "print('{} + {} = {}'.format(a, b, a + b))\n",
    "print('{} - {} = {}'.format(a, b, a - b))\n",
    "print('{} * {} = {}'.format(a, b, a * b))\n",
    "print('{} / {} = {:.2f}'.format(a, b, a / b)) \n",
    "# limits it to two digits after decimal\n",
    "print('{} % {} = {}'.format(a, b, a % b))\n",
    "print('{} // {} = {}'.format(a, b, a // b))\n",
    "print('{} ** {} = {}'.format(a, b, a ** b))"
   ]
  },
  {
   "cell_type": "markdown",
   "metadata": {},
   "source": [
    "### Python Strings as Sequences of Characters\n",
    "Python strings are sequences of characters, and share their basic methods of access with other Python ordered sequences of objects – lists and tuples. The simplest way of extracting single characters from strings (and individual members from any sequence) is to unpack them into corresponding variables."
   ]
  },
  {
   "cell_type": "code",
   "execution_count": null,
   "metadata": {},
   "outputs": [],
   "source": [
    "language = 'Python'\n",
    "first_letter = language[0]\n",
    "print(first_letter) # P\n",
    "second_letter = language[1]\n",
    "print(second_letter) # y"
   ]
  },
  {
   "cell_type": "markdown",
   "metadata": {},
   "source": [
    "If we want to start from right end we can use negative indexing. -1 is the last index."
   ]
  },
  {
   "cell_type": "code",
   "execution_count": null,
   "metadata": {},
   "outputs": [],
   "source": [
    "language = 'Python'\n",
    "last_letter = language[-4]\n",
    "print(last_letter) \n",
    "second_last = language[-2]\n",
    "print(second_last) "
   ]
  },
  {
   "cell_type": "markdown",
   "metadata": {},
   "source": [
    "### Slicing Python Strings\n",
    "In python we can slice strings into substrings"
   ]
  },
  {
   "cell_type": "code",
   "execution_count": null,
   "metadata": {},
   "outputs": [],
   "source": [
    "s = \"Programming Language\"\n",
    "\n",
    "print(s[4:6])\n",
    "print(s[:9])\n",
    "#print(s[-5:-9])\n",
    "print(s[-14:-5])\n",
    "print(s[:6])\n",
    "print(s[::2])\n",
    "print(s[:5])\n",
    "print(s[:])"
   ]
  },
  {
   "cell_type": "markdown",
   "metadata": {},
   "source": [
    "### Reversing a String\n",
    "We can easily reverse strings in python."
   ]
  },
  {
   "cell_type": "code",
   "execution_count": null,
   "metadata": {},
   "outputs": [],
   "source": [
    "new = 'Where are you from?'\n",
    "print(new[::-1]) "
   ]
  },
  {
   "cell_type": "markdown",
   "metadata": {},
   "source": [
    "### Skipping Characters While Slicing\n",
    "It is possible to skip characters while slicing by passing step argument to slice method."
   ]
  },
  {
   "cell_type": "code",
   "execution_count": null,
   "metadata": {},
   "outputs": [],
   "source": [
    "language = 'Python is a programming language'\n",
    "new = language[1:16:3] \n",
    "print(new)"
   ]
  },
  {
   "cell_type": "markdown",
   "metadata": {},
   "source": [
    "### String Methods\n",
    "There are many string methods which allow us to format strings.\n",
    "\n",
    "capitalize(): Converts the first character of the string to capital letter"
   ]
  },
  {
   "cell_type": "code",
   "execution_count": null,
   "metadata": {},
   "outputs": [],
   "source": [
    "capital = \"beginning of python\"\n",
    "print(capital.capitalize())"
   ]
  },
  {
   "cell_type": "markdown",
   "metadata": {},
   "source": [
    "count(): returns occurrences of substring in string, count(substring, start=.., end=..). The start is a starting indexing for counting and end is the last index to count."
   ]
  },
  {
   "cell_type": "code",
   "execution_count": null,
   "metadata": {},
   "outputs": [],
   "source": [
    "capital = \"beginning of python\"\n",
    "print(capital.count('g',2,7))\n",
    "print(capital.count('n'))"
   ]
  },
  {
   "cell_type": "markdown",
   "metadata": {},
   "source": [
    "isalnum(): Checks alphanumeric character"
   ]
  },
  {
   "cell_type": "code",
   "execution_count": null,
   "metadata": {},
   "outputs": [],
   "source": [
    "capital = \"beginning of python\"\n",
    "print(capital.isalnum())\n",
    "\n",
    "new = 'jsvxubuKbns145dsxHH'\n",
    "print(new.isalnum())"
   ]
  },
  {
   "cell_type": "markdown",
   "metadata": {},
   "source": [
    "isalpha(): Checks if all string elements are alphabet characters (a-z and A-Z)"
   ]
  },
  {
   "cell_type": "code",
   "execution_count": null,
   "metadata": {},
   "outputs": [],
   "source": [
    "capital = \"beginning of python\"\n",
    "print(capital.isalpha())\n",
    "\n",
    "new = 'dwdJJHOOSK'\n",
    "print(new.isalpha())"
   ]
  },
  {
   "cell_type": "markdown",
   "metadata": {},
   "source": [
    "islower(): Checks if all alphabet characters in the string are lowercase"
   ]
  },
  {
   "cell_type": "code",
   "execution_count": null,
   "metadata": {},
   "outputs": [],
   "source": [
    "capital = \"beginning of python\"\n",
    "print(capital.islower())"
   ]
  },
  {
   "cell_type": "markdown",
   "metadata": {},
   "source": [
    "isupper(): Checks if all alphabet characters in the string are uppercase"
   ]
  },
  {
   "cell_type": "code",
   "execution_count": null,
   "metadata": {},
   "outputs": [],
   "source": [
    "capital = \"beginning of python\"\n",
    "print(capital.isupper())"
   ]
  },
  {
   "cell_type": "markdown",
   "metadata": {},
   "source": [
    "replace(): Replaces substring with a given string"
   ]
  },
  {
   "cell_type": "code",
   "execution_count": null,
   "metadata": {},
   "outputs": [],
   "source": [
    "capital = \"beginning of python\"\n",
    "print(capital.replace('python','coding'))"
   ]
  },
  {
   "cell_type": "markdown",
   "metadata": {},
   "source": [
    "len() = The len() function returns the length of the string"
   ]
  },
  {
   "cell_type": "code",
   "execution_count": null,
   "metadata": {},
   "outputs": [],
   "source": [
    "s = 'Python 1235Program'\n",
    "print(len(s))"
   ]
  },
  {
   "cell_type": "markdown",
   "metadata": {},
   "source": [
    "lower() = The method lower() returns a copy of the string in which all case-based characters has been lowercase"
   ]
  },
  {
   "cell_type": "code",
   "execution_count": null,
   "metadata": {},
   "outputs": [],
   "source": [
    "l = 'DHGDGCsjkvbl4'\n",
    "print(l.lower())"
   ]
  },
  {
   "cell_type": "markdown",
   "metadata": {},
   "source": [
    "upper() = The method upper() returns a copy of the string in which all case-based characters has been uppercased."
   ]
  },
  {
   "cell_type": "code",
   "execution_count": null,
   "metadata": {},
   "outputs": [],
   "source": [
    "l = 'DHGDGCsjkvbl4'\n",
    "print(l.upper())"
   ]
  },
  {
   "cell_type": "markdown",
   "metadata": {},
   "source": [
    "find() : The find() method finds the first occurrence of the specified value.\n",
    "\n",
    "The find() method returns -1 if the value is not found.\n",
    "\n",
    "The find() method is almost the same as the index() method, the only difference is that the index() method raises an exception if the value is not found."
   ]
  },
  {
   "cell_type": "code",
   "execution_count": null,
   "metadata": {},
   "outputs": [],
   "source": [
    "print(capital.find('of'))"
   ]
  },
  {
   "cell_type": "code",
   "execution_count": null,
   "metadata": {},
   "outputs": [],
   "source": [
    "print(capital.find('nn'))"
   ]
  },
  {
   "cell_type": "code",
   "execution_count": null,
   "metadata": {},
   "outputs": [],
   "source": [
    "print(capital.find('ss'))"
   ]
  },
  {
   "cell_type": "markdown",
   "metadata": {},
   "source": [
    "index() : The index() method finds the first occurrence of the specified value.\n",
    "\n",
    "The index() method raises an exception if the value is not found.\n",
    "\n",
    "The index() method is almost the same as the find() method, the only difference is that the find() method returns -1 if the value is not found."
   ]
  },
  {
   "cell_type": "code",
   "execution_count": null,
   "metadata": {},
   "outputs": [],
   "source": [
    "txt = \"This is our 3rd session for python\"\n",
    "x = txt.index(\"is\")\n",
    "print(x)"
   ]
  },
  {
   "cell_type": "code",
   "execution_count": null,
   "metadata": {},
   "outputs": [],
   "source": [
    "txt = \"This is our 4th session for python\"\n",
    "\n",
    "x = txt.index(\"e\", 5, 10)\n",
    "\n",
    "print(x)"
   ]
  },
  {
   "cell_type": "code",
   "execution_count": null,
   "metadata": {},
   "outputs": [],
   "source": [
    "txt = \"This is our 4th session for python\"\n",
    "\n",
    "x = txt.index(\"is\", 5, 10)\n",
    "\n",
    "print(x)"
   ]
  }
 ],
 "metadata": {
  "kernelspec": {
   "display_name": "Python 3",
   "language": "python",
   "name": "python3"
  },
  "language_info": {
   "codemirror_mode": {
    "name": "ipython",
    "version": 3
   },
   "file_extension": ".py",
   "mimetype": "text/x-python",
   "name": "python",
   "nbconvert_exporter": "python",
   "pygments_lexer": "ipython3",
   "version": "3.7.6"
  }
 },
 "nbformat": 4,
 "nbformat_minor": 5
}
