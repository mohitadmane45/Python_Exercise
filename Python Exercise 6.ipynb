{
 "cells": [
  {
   "cell_type": "markdown",
   "metadata": {},
   "source": [
    "### Loops:\n",
    "Loop is a programming construct that allows to execute same logic by repeating multiple no. of times"
   ]
  },
  {
   "cell_type": "markdown",
   "metadata": {},
   "source": [
    "While loop(conditional)"
   ]
  },
  {
   "cell_type": "code",
   "execution_count": 30,
   "metadata": {},
   "outputs": [],
   "source": [
    "#count=0\n",
    "#while(count<5):\n",
    "    #print(count)"
   ]
  },
  {
   "cell_type": "code",
   "execution_count": 31,
   "metadata": {},
   "outputs": [
    {
     "name": "stdout",
     "output_type": "stream",
     "text": [
      "0\n",
      "1\n",
      "2\n",
      "3\n",
      "4\n",
      "count value reached 5\n"
     ]
    }
   ],
   "source": [
    "count=0\n",
    "while(count<5):\n",
    "    print(count)\n",
    "    count=count+1\n",
    "    #count+=1\n",
    "else:\n",
    "    print(\"count value reached\",count)"
   ]
  },
  {
   "cell_type": "code",
   "execution_count": 32,
   "metadata": {},
   "outputs": [
    {
     "name": "stdout",
     "output_type": "stream",
     "text": [
      "99\n",
      "98\n",
      "97\n",
      "96\n",
      "95\n",
      "94\n",
      "93\n",
      "92\n",
      "91\n",
      "90\n",
      "89\n",
      "88\n",
      "87\n",
      "86\n",
      "85\n",
      "84\n",
      "83\n",
      "82\n",
      "81\n",
      "80\n",
      "79\n",
      "78\n",
      "77\n",
      "76\n",
      "75\n",
      "74\n",
      "73\n",
      "72\n",
      "71\n",
      "70\n",
      "69\n",
      "68\n",
      "67\n",
      "66\n",
      "65\n",
      "64\n",
      "63\n",
      "62\n",
      "61\n",
      "60\n",
      "59\n",
      "58\n",
      "57\n",
      "56\n",
      "55\n",
      "54\n",
      "53\n",
      "52\n",
      "51\n",
      "50\n",
      "49\n"
     ]
    }
   ],
   "source": [
    "#higher to lower value in while loop\n",
    "count=100\n",
    "while(count>=50):\n",
    "    count=count-1  #pre-decrement\n",
    "    print(count)\n",
    "    #count=count-1"
   ]
  },
  {
   "cell_type": "code",
   "execution_count": 33,
   "metadata": {},
   "outputs": [
    {
     "name": "stdout",
     "output_type": "stream",
     "text": [
      "100\n",
      "Number is even\n",
      "99\n",
      "Number is odd\n",
      "98\n",
      "Number is even\n",
      "97\n",
      "Number is odd\n",
      "96\n",
      "Number is even\n",
      "95\n",
      "Number is odd\n",
      "94\n",
      "Number is even\n",
      "93\n",
      "Number is odd\n",
      "92\n",
      "Number is even\n",
      "91\n",
      "Number is odd\n",
      "90\n",
      "Number is even\n",
      "89\n",
      "Number is odd\n",
      "88\n",
      "Number is even\n",
      "87\n",
      "Number is odd\n",
      "86\n",
      "Number is even\n",
      "85\n",
      "Number is odd\n",
      "84\n",
      "Number is even\n",
      "83\n",
      "Number is odd\n",
      "82\n",
      "Number is even\n",
      "81\n",
      "Number is odd\n",
      "80\n",
      "Number is even\n",
      "79\n",
      "Number is odd\n",
      "78\n",
      "Number is even\n",
      "77\n",
      "Number is odd\n",
      "76\n",
      "Number is even\n",
      "75\n",
      "Number is odd\n",
      "74\n",
      "Number is even\n",
      "73\n",
      "Number is odd\n",
      "72\n",
      "Number is even\n",
      "71\n",
      "Number is odd\n",
      "70\n",
      "Number is even\n",
      "69\n",
      "Number is odd\n",
      "68\n",
      "Number is even\n",
      "67\n",
      "Number is odd\n",
      "66\n",
      "Number is even\n",
      "65\n",
      "Number is odd\n",
      "64\n",
      "Number is even\n",
      "63\n",
      "Number is odd\n",
      "62\n",
      "Number is even\n",
      "61\n",
      "Number is odd\n",
      "60\n",
      "Number is even\n",
      "59\n",
      "Number is odd\n",
      "58\n",
      "Number is even\n",
      "57\n",
      "Number is odd\n",
      "56\n",
      "Number is even\n",
      "55\n",
      "Number is odd\n",
      "54\n",
      "Number is even\n",
      "53\n",
      "Number is odd\n",
      "52\n",
      "Number is even\n",
      "51\n",
      "Number is odd\n",
      "50\n",
      "Number is even\n",
      "49\n",
      "Number is odd\n",
      "48\n",
      "Number is even\n",
      "47\n",
      "Number is odd\n",
      "46\n",
      "Number is even\n",
      "45\n",
      "Number is odd\n",
      "44\n",
      "Number is even\n",
      "43\n",
      "Number is odd\n",
      "42\n",
      "Number is even\n",
      "41\n",
      "Number is odd\n",
      "40\n",
      "Number is even\n",
      "39\n",
      "Number is odd\n",
      "38\n",
      "Number is even\n",
      "37\n",
      "Number is odd\n",
      "36\n",
      "Number is even\n",
      "35\n",
      "Number is odd\n",
      "34\n",
      "Number is even\n",
      "33\n",
      "Number is odd\n",
      "32\n",
      "Number is even\n",
      "31\n",
      "Number is odd\n",
      "30\n",
      "Number is even\n"
     ]
    }
   ],
   "source": [
    "count=100\n",
    "while(count>=30):\n",
    "    print(count)\n",
    "\n",
    "    if count%2==0:\n",
    "        print(\"Number is even\")\n",
    "    else:\n",
    "        print(\"Number is odd\")\n",
    "    count=count-1"
   ]
  },
  {
   "cell_type": "code",
   "execution_count": 34,
   "metadata": {},
   "outputs": [
    {
     "name": "stdout",
     "output_type": "stream",
     "text": [
      "100 is an even number\n",
      "99 is an odd number\n",
      "98 is an even number\n",
      "97 is an odd number\n",
      "96 is an even number\n",
      "95 is an odd number\n",
      "94 is an even number\n",
      "93 is an odd number\n",
      "92 is an even number\n",
      "91 is an odd number\n",
      "90 is an even number\n",
      "89 is an odd number\n",
      "88 is an even number\n",
      "87 is an odd number\n",
      "86 is an even number\n",
      "85 is an odd number\n",
      "84 is an even number\n",
      "83 is an odd number\n",
      "82 is an even number\n",
      "81 is an odd number\n",
      "80 is an even number\n",
      "79 is an odd number\n",
      "78 is an even number\n",
      "77 is an odd number\n",
      "76 is an even number\n",
      "75 is an odd number\n",
      "74 is an even number\n",
      "73 is an odd number\n",
      "72 is an even number\n",
      "71 is an odd number\n",
      "70 is an even number\n",
      "69 is an odd number\n",
      "68 is an even number\n",
      "67 is an odd number\n",
      "66 is an even number\n",
      "65 is an odd number\n",
      "64 is an even number\n",
      "63 is an odd number\n",
      "62 is an even number\n",
      "61 is an odd number\n",
      "60 is an even number\n",
      "59 is an odd number\n",
      "58 is an even number\n",
      "57 is an odd number\n",
      "56 is an even number\n",
      "55 is an odd number\n",
      "54 is an even number\n",
      "53 is an odd number\n",
      "52 is an even number\n",
      "51 is an odd number\n",
      "50 is an even number\n"
     ]
    }
   ],
   "source": [
    "count=100\n",
    "while(count>=50):\n",
    "    if count%2==0:\n",
    "        print(count, \"is an even number\")\n",
    "    else:\n",
    "        print(count,\"is an odd number\")\n",
    "    count=count-1"
   ]
  },
  {
   "cell_type": "code",
   "execution_count": 35,
   "metadata": {},
   "outputs": [
    {
     "name": "stdout",
     "output_type": "stream",
     "text": [
      "5 * 1 = 5\n",
      "5 * 2 = 10\n",
      "5 * 3 = 15\n",
      "5 * 4 = 20\n",
      "5 * 5 = 25\n",
      "5 * 6 = 30\n",
      "5 * 7 = 35\n",
      "5 * 8 = 40\n",
      "5 * 9 = 45\n",
      "5 * 10 = 50\n"
     ]
    }
   ],
   "source": [
    "i=1\n",
    "while(i<=10):\n",
    "    print(\"5\",\"*\",i,\"=\",5*i)\n",
    "    i=i+1"
   ]
  },
  {
   "cell_type": "markdown",
   "metadata": {},
   "source": [
    "For loop(iterative)"
   ]
  },
  {
   "cell_type": "markdown",
   "metadata": {},
   "source": [
    "### Break statement:\n",
    "In Python , the break statement provides you with the opportunity to exit out of the loop when an external condition is triggered."
   ]
  },
  {
   "cell_type": "code",
   "execution_count": 36,
   "metadata": {},
   "outputs": [
    {
     "name": "stdout",
     "output_type": "stream",
     "text": [
      "Enter your no.44\n",
      "Not a prime number\n"
     ]
    }
   ],
   "source": [
    "num = int(input('Enter your no.' ))\n",
    "for x in range(2,num):\n",
    "    if x>1:\n",
    "        if num % x == 0:\n",
    "            print(\"Not a prime number\")\n",
    "            break\n",
    "else:\n",
    "    print(\"It is a prime number\")"
   ]
  },
  {
   "cell_type": "markdown",
   "metadata": {},
   "source": [
    "### Continue Statement:\n",
    "In Python , Continue statement is a jump statement which is used to skip execution of current iterartion. Aftter skipping loop continues with next iteration."
   ]
  },
  {
   "cell_type": "code",
   "execution_count": 37,
   "metadata": {},
   "outputs": [
    {
     "name": "stdout",
     "output_type": "stream",
     "text": [
      "1\n",
      "3\n",
      "5\n",
      "Loop ends over here!\n"
     ]
    }
   ],
   "source": [
    "a=0\n",
    "\n",
    "while a<=5:\n",
    "    a=a+1\n",
    "    if a%2==0:\n",
    "        continue\n",
    "    print(a)\n",
    "\n",
    "print(\"Loop ends over here!\")"
   ]
  },
  {
   "cell_type": "markdown",
   "metadata": {},
   "source": [
    "### Pass Statements:\n",
    "In Python, pass keyword is used to execute nothing; it means, when we don't want to execute code, the pass can be used to execute empty. It is same as the name refers to. It just makes the control to pass by without executing any code. If we want to bypass any code pass statement can be used."
   ]
  },
  {
   "cell_type": "code",
   "execution_count": 38,
   "metadata": {},
   "outputs": [
    {
     "name": "stdout",
     "output_type": "stream",
     "text": [
      "Number is  1\n",
      "Number is  2\n",
      "Number is  3\n",
      "Number is  4\n",
      "Number is  5\n",
      "Number is  6\n",
      "Number is  7\n",
      "Number is  8\n",
      "Number is  9\n",
      "Number is  10\n",
      "Number is  11\n",
      "Number is  12\n",
      "Number is  13\n",
      "Number is  14\n",
      "Number is  15\n",
      "Number is  16\n",
      "Number is  17\n",
      "Number is  18\n",
      "Number is  19\n",
      "Number is  20\n"
     ]
    }
   ],
   "source": [
    "for num in range(20):\n",
    "    num = num+1\n",
    "    if num == 5:\n",
    "        pass\n",
    "    print(\"Number is \",num)"
   ]
  },
  {
   "cell_type": "markdown",
   "metadata": {},
   "source": [
    "Count all letters, digits, and special symbols from a given string\n",
    "data = \"I77oma^26r$t^&i!c5u@s\""
   ]
  },
  {
   "cell_type": "code",
   "execution_count": 39,
   "metadata": {},
   "outputs": [
    {
     "name": "stdout",
     "output_type": "stream",
     "text": [
      "digits = 5\n",
      "Letters = 10\n",
      "Special_symbols = 6\n"
     ]
    }
   ],
   "source": [
    "data = \"I77oma^26r$t^&i!c5u@s\"\n",
    "digits=0\n",
    "letters=0\n",
    "special_symbols=0\n",
    "for i in data:\n",
    "    if i.isdigit():\n",
    "        digits+=1\n",
    "    elif i.isalpha():\n",
    "        letters+=1\n",
    "    else:\n",
    "        special_symbols+=1\n",
    "print('digits =',digits)\n",
    "print('Letters =',letters)\n",
    "print('Special_symbols =',special_symbols)"
   ]
  },
  {
   "cell_type": "markdown",
   "metadata": {},
   "source": [
    "The split() method splits a string into a list.\n",
    "\n",
    "You can specify the separator, default separator is any whitespace.\n",
    "\n",
    "Find all of the words in a string that are less than 8 letters\n",
    "parah = 'Python is a programming language.Python is interesting.\""
   ]
  },
  {
   "cell_type": "code",
   "execution_count": 40,
   "metadata": {},
   "outputs": [
    {
     "name": "stdout",
     "output_type": "stream",
     "text": [
      "Python\n",
      "is\n",
      "a\n",
      "Python\n",
      "is\n"
     ]
    }
   ],
   "source": [
    "parah = \"Python is a programming language. Python is interesting.\"\n",
    "\n",
    "for i in parah.split():\n",
    "    if len(i)<8:\n",
    "        print(i)"
   ]
  },
  {
   "cell_type": "markdown",
   "metadata": {},
   "source": [
    "Applying loop on list:"
   ]
  },
  {
   "cell_type": "code",
   "execution_count": 41,
   "metadata": {},
   "outputs": [
    {
     "name": "stdout",
     "output_type": "stream",
     "text": [
      "[2, 4, 6, 8, 10]\n"
     ]
    }
   ],
   "source": [
    "list1 = [1,2,3,4,5]\n",
    "list2 = []\n",
    "for x in list1:\n",
    "    num = x*2\n",
    "    list2.append(num)\n",
    "\n",
    "print(list2)"
   ]
  },
  {
   "cell_type": "markdown",
   "metadata": {},
   "source": [
    "### List Comprehension"
   ]
  },
  {
   "cell_type": "code",
   "execution_count": 42,
   "metadata": {},
   "outputs": [
    {
     "name": "stdout",
     "output_type": "stream",
     "text": [
      "['lotus', 'rose', 'lily', 'daisy', 'iris']\n"
     ]
    }
   ],
   "source": [
    "flowers = [\"lotus\",\"rose\",\"lily\",\"daisy\",\"iris\"]\n",
    "mylist=[]\n",
    "mylist.extend(flowers)\n",
    "print(mylist)"
   ]
  },
  {
   "cell_type": "code",
   "execution_count": 43,
   "metadata": {},
   "outputs": [
    {
     "name": "stdout",
     "output_type": "stream",
     "text": [
      "['lotus', 'rose', 'lily', 'daisy', 'iris']\n"
     ]
    }
   ],
   "source": [
    "flowers = [\"lotus\",\"rose\",\"lily\",\"daisy\",\"iris\"]\n",
    "mylist=[]\n",
    "for x in flowers:\n",
    "    mylist.append(x)\n",
    "print(mylist)"
   ]
  },
  {
   "cell_type": "code",
   "execution_count": 44,
   "metadata": {},
   "outputs": [
    {
     "name": "stdout",
     "output_type": "stream",
     "text": [
      "['lotus', 'rose', 'lily', 'daisy', 'iris']\n"
     ]
    }
   ],
   "source": [
    "#mylist={expression for item in iteration}\n",
    "flowers=[\"lotus\",\"rose\",\"lily\",\"daisy\",\"iris\"]\n",
    "mylist=[x for x in flowers]\n",
    "print(mylist)"
   ]
  },
  {
   "cell_type": "code",
   "execution_count": 45,
   "metadata": {},
   "outputs": [
    {
     "name": "stdout",
     "output_type": "stream",
     "text": [
      "['lily', 'daisy', 'iris']\n"
     ]
    }
   ],
   "source": [
    "flowers=[\"lotus\",\"rose\",\"lily\",\"daisy\",\"iris\"]\n",
    "mylist=[]\n",
    "for x in flowers:\n",
    "    if \"i\" in x:\n",
    "        mylist.append(x)\n",
    "print(mylist)"
   ]
  },
  {
   "cell_type": "code",
   "execution_count": 46,
   "metadata": {},
   "outputs": [
    {
     "name": "stdout",
     "output_type": "stream",
     "text": [
      "['lily', 'daisy', 'iris']\n"
     ]
    }
   ],
   "source": [
    "#mylist = [expression for item in iterable if condition == True]\n",
    "flowers=[\"lotus\",\"rose\",\"lily\",\"daisy\",\"iris\"]\n",
    "mylist=[x for x in flowers if \"i\" in x]\n",
    "print(mylist)"
   ]
  },
  {
   "cell_type": "code",
   "execution_count": 47,
   "metadata": {},
   "outputs": [
    {
     "data": {
      "text/plain": [
       "[0, 1, 2, 3, 4, 5, 6, 7, 8, 9]"
      ]
     },
     "execution_count": 47,
     "metadata": {},
     "output_type": "execute_result"
    }
   ],
   "source": [
    "mylist=[x for x in range(10)]\n",
    "mylist"
   ]
  },
  {
   "cell_type": "code",
   "execution_count": 48,
   "metadata": {},
   "outputs": [
    {
     "name": "stdout",
     "output_type": "stream",
     "text": [
      "[0, 1, 2, 3, 4]\n"
     ]
    }
   ],
   "source": [
    "mylist=[x for x in range(10) if x<5]\n",
    "print(mylist)"
   ]
  },
  {
   "cell_type": "code",
   "execution_count": 49,
   "metadata": {},
   "outputs": [
    {
     "name": "stdout",
     "output_type": "stream",
     "text": [
      "['LOTUS', 'ROSE', 'LILY', 'DAISY', 'IRIS']\n"
     ]
    }
   ],
   "source": [
    "mylist=[x.upper() for x in flowers]\n",
    "print(mylist)"
   ]
  },
  {
   "cell_type": "code",
   "execution_count": 50,
   "metadata": {},
   "outputs": [
    {
     "name": "stdout",
     "output_type": "stream",
     "text": [
      "['e', 'o', 'e', 'a', 'e', 'a', 'o', 'a']\n"
     ]
    }
   ],
   "source": [
    "sentence='the rocket came back from mars'\n",
    "vowels=[i for i in sentence if i in 'aeiou']\n",
    "print(vowels)"
   ]
  },
  {
   "cell_type": "code",
   "execution_count": 51,
   "metadata": {},
   "outputs": [
    {
     "name": "stdout",
     "output_type": "stream",
     "text": [
      "['lotus', 'sunflower', 'lily', 'daisy', 'iris']\n"
     ]
    }
   ],
   "source": [
    "mylist=[x if x !=\"rose\" else \"sunflower\" for x in flowers]\n",
    "print(mylist)"
   ]
  },
  {
   "cell_type": "code",
   "execution_count": 52,
   "metadata": {},
   "outputs": [
    {
     "name": "stdout",
     "output_type": "stream",
     "text": [
      "[1, 3, 5, 7, 9, 11, 13, 15, 17, 19, 21, 23, 25, 27, 29, 31, 33, 35, 37, 39, 41, 43, 45, 47, 49]\n"
     ]
    }
   ],
   "source": [
    "mylist = [x for x in range(1,51) if x%2!=0]\n",
    "#finding even numbers between 1 to 100 using list\n",
    "#comprehension\n",
    "print(mylist)"
   ]
  },
  {
   "cell_type": "code",
   "execution_count": 53,
   "metadata": {},
   "outputs": [
    {
     "name": "stdout",
     "output_type": "stream",
     "text": [
      "1 is odd\n",
      "2 is even\n",
      "3 is odd\n",
      "4 is even\n",
      "5 is odd\n",
      "6 is even\n",
      "7 is odd\n",
      "8 is even\n",
      "9 is odd\n",
      "10 is even\n",
      "11 is odd\n",
      "12 is even\n",
      "13 is odd\n",
      "14 is even\n",
      "15 is odd\n",
      "16 is even\n",
      "17 is odd\n",
      "18 is even\n",
      "19 is odd\n",
      "20 is even\n",
      "21 is odd\n",
      "22 is even\n",
      "23 is odd\n",
      "24 is even\n",
      "25 is odd\n",
      "26 is even\n",
      "27 is odd\n",
      "28 is even\n",
      "29 is odd\n",
      "30 is even\n",
      "31 is odd\n",
      "32 is even\n",
      "33 is odd\n",
      "34 is even\n",
      "35 is odd\n",
      "36 is even\n",
      "37 is odd\n",
      "38 is even\n",
      "39 is odd\n",
      "40 is even\n",
      "41 is odd\n",
      "42 is even\n",
      "43 is odd\n",
      "44 is even\n",
      "45 is odd\n",
      "46 is even\n",
      "47 is odd\n",
      "48 is even\n",
      "49 is odd\n",
      "50 is even\n"
     ]
    }
   ],
   "source": [
    "mylist=[print(x,\"is even\") if x%2==0 else\n",
    "        print(x,\"is odd\")for x in range(1,51)]"
   ]
  },
  {
   "cell_type": "code",
   "execution_count": 54,
   "metadata": {},
   "outputs": [
    {
     "name": "stdout",
     "output_type": "stream",
     "text": [
      "[2, 4, 5, 6, 8, 10, 12, 14, 15, 16, 18, 20, 22, 24, 25, 26, 28, 30, 32, 34, 35, 36, 38, 40, 42, 44, 45, 46, 48]\n"
     ]
    }
   ],
   "source": [
    "num = [x for x in range(1, 50) if x % 2 == 0 or x % 5 == 0]\n",
    "print(num)"
   ]
  },
  {
   "cell_type": "code",
   "execution_count": 55,
   "metadata": {},
   "outputs": [
    {
     "name": "stdout",
     "output_type": "stream",
     "text": [
      "[5, 6, 7, 5, 10]\n"
     ]
    }
   ],
   "source": [
    "fruits = [\"apple\", \"banana\", \"avocado\", \"mango\", \"pine-apple\"]\n",
    "length = [len(word) for word in fruits]\n",
    "print(length)"
   ]
  },
  {
   "cell_type": "code",
   "execution_count": 56,
   "metadata": {},
   "outputs": [
    {
     "name": "stdout",
     "output_type": "stream",
     "text": [
      "[2, 3, 4, 5, 6, 7, 8, 9, 10, 11, 12, 13, 14, 15, 16, 17, 18, 19, 20, 21, 22, 23, 24, 25, 26, 27, 28, 29, 30, 31, 32, 33, 34, 35, 36, 37, 38, 39, 40, 41, 42, 43, 44, 45, 46, 47, 48, 49, 50, 51, 52, 53, 54, 55, 56, 57, 58, 59, 60, 61, 62, 63, 64, 65, 66, 67, 68, 69, 70, 71, 72, 73, 74, 75, 76, 77, 78, 79, 80, 81, 82, 83, 84, 85, 86, 87, 88, 89, 90, 91, 92, 93, 94, 95, 96, 97, 98, 99]\n"
     ]
    }
   ],
   "source": [
    "primes = [x for x in range(2,100)]\n",
    "print (primes)"
   ]
  },
  {
   "cell_type": "code",
   "execution_count": 57,
   "metadata": {},
   "outputs": [
    {
     "name": "stdout",
     "output_type": "stream",
     "text": [
      "2 - It is prime number\n",
      "3 - It is prime number\n",
      "4 - Not a prime number\n",
      "5 - It is prime number\n",
      "6 - Not a prime number\n",
      "7 - It is prime number\n",
      "8 - Not a prime number\n",
      "9 - Not a prime number\n",
      "10 - Not a prime number\n",
      "11 - It is prime number\n",
      "12 - Not a prime number\n",
      "13 - It is prime number\n",
      "14 - Not a prime number\n",
      "15 - Not a prime number\n",
      "16 - Not a prime number\n",
      "17 - It is prime number\n",
      "18 - Not a prime number\n",
      "19 - It is prime number\n",
      "20 - Not a prime number\n",
      "21 - Not a prime number\n",
      "22 - Not a prime number\n",
      "23 - It is prime number\n",
      "24 - Not a prime number\n",
      "25 - Not a prime number\n",
      "26 - Not a prime number\n",
      "27 - Not a prime number\n",
      "28 - Not a prime number\n",
      "29 - It is prime number\n",
      "30 - Not a prime number\n",
      "31 - It is prime number\n",
      "32 - Not a prime number\n",
      "33 - Not a prime number\n",
      "34 - Not a prime number\n",
      "35 - Not a prime number\n",
      "36 - Not a prime number\n",
      "37 - It is prime number\n",
      "38 - Not a prime number\n",
      "39 - Not a prime number\n",
      "40 - Not a prime number\n",
      "41 - It is prime number\n",
      "42 - Not a prime number\n",
      "43 - It is prime number\n",
      "44 - Not a prime number\n",
      "45 - Not a prime number\n",
      "46 - Not a prime number\n",
      "47 - It is prime number\n",
      "48 - Not a prime number\n",
      "49 - Not a prime number\n",
      "50 - Not a prime number\n",
      "51 - Not a prime number\n",
      "52 - Not a prime number\n",
      "53 - It is prime number\n",
      "54 - Not a prime number\n",
      "55 - Not a prime number\n",
      "56 - Not a prime number\n",
      "57 - Not a prime number\n",
      "58 - Not a prime number\n",
      "59 - It is prime number\n",
      "60 - Not a prime number\n",
      "61 - It is prime number\n",
      "62 - Not a prime number\n",
      "63 - Not a prime number\n",
      "64 - Not a prime number\n",
      "65 - Not a prime number\n",
      "66 - Not a prime number\n",
      "67 - It is prime number\n",
      "68 - Not a prime number\n",
      "69 - Not a prime number\n",
      "70 - Not a prime number\n",
      "71 - It is prime number\n",
      "72 - Not a prime number\n",
      "73 - It is prime number\n",
      "74 - Not a prime number\n",
      "75 - Not a prime number\n",
      "76 - Not a prime number\n",
      "77 - Not a prime number\n",
      "78 - Not a prime number\n",
      "79 - It is prime number\n",
      "80 - Not a prime number\n",
      "81 - Not a prime number\n",
      "82 - Not a prime number\n",
      "83 - It is prime number\n",
      "84 - Not a prime number\n",
      "85 - Not a prime number\n",
      "86 - Not a prime number\n",
      "87 - Not a prime number\n",
      "88 - Not a prime number\n",
      "89 - It is prime number\n",
      "90 - Not a prime number\n",
      "91 - Not a prime number\n",
      "92 - Not a prime number\n",
      "93 - Not a prime number\n",
      "94 - Not a prime number\n",
      "95 - Not a prime number\n",
      "96 - Not a prime number\n",
      "97 - It is prime number\n",
      "98 - Not a prime number\n",
      "99 - Not a prime number\n"
     ]
    }
   ],
   "source": [
    "for i in primes:\n",
    "    if i > 1:\n",
    "        for y in range(2,i):\n",
    "            if i%y==0:\n",
    "                print(i,\"- Not a prime number\")\n",
    "                break\n",
    "        else:\n",
    "            print(i,\"- It is prime number\")"
   ]
  },
  {
   "cell_type": "code",
   "execution_count": null,
   "metadata": {},
   "outputs": [],
   "source": []
  }
 ],
 "metadata": {
  "kernelspec": {
   "display_name": "Python 3",
   "language": "python",
   "name": "python3"
  },
  "language_info": {
   "codemirror_mode": {
    "name": "ipython",
    "version": 3
   },
   "file_extension": ".py",
   "mimetype": "text/x-python",
   "name": "python",
   "nbconvert_exporter": "python",
   "pygments_lexer": "ipython3",
   "version": "3.7.6"
  }
 },
 "nbformat": 4,
 "nbformat_minor": 5
}
